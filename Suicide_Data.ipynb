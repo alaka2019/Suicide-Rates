{
  "nbformat": 4,
  "nbformat_minor": 0,
  "metadata": {
    "colab": {
      "name": "Suicide Data.ipynb",
      "provenance": [],
      "authorship_tag": "ABX9TyNMJvNw46PvTmOGTLY3yd0Q",
      "include_colab_link": true
    },
    "kernelspec": {
      "name": "python3",
      "display_name": "Python 3"
    },
    "language_info": {
      "name": "python"
    }
  },
  "cells": [
    {
      "cell_type": "markdown",
      "metadata": {
        "id": "view-in-github",
        "colab_type": "text"
      },
      "source": [
        "<a href=\"https://colab.research.google.com/github/alaka2019/Suicide-Rates/blob/main/Suicide_Data.ipynb\" target=\"_parent\"><img src=\"https://colab.research.google.com/assets/colab-badge.svg\" alt=\"Open In Colab\"/></a>"
      ]
    },
    {
      "cell_type": "markdown",
      "source": [
        "AUTHOR: ALAKA JAYAN\n",
        "\n",
        "DATE: 12-12-2021\n",
        "\n",
        "DATA SOURCE: https://www.kaggle.com/russellyates88/suicide-rates-overview-1985-to-2016"
      ],
      "metadata": {
        "id": "witnVxK8B8b4"
      }
    },
    {
      "cell_type": "code",
      "source": [
        "#Importing libraries required\n",
        "import pandas as pd\n",
        "import numpy as np\n",
        "import seaborn as sns\n",
        "import matplotlib.pyplot as plt"
      ],
      "metadata": {
        "id": "uF27lAgxBc3_"
      },
      "execution_count": null,
      "outputs": []
    },
    {
      "cell_type": "code",
      "source": [
        "#Uploading file from local drive\n",
        "from google.colab import files\n",
        "uploaded = files.upload()"
      ],
      "metadata": {
        "colab": {
          "resources": {
            "http://localhost:8080/nbextensions/google.colab/files.js": {
              "data": "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",
              "ok": true,
              "headers": [
                [
                  "content-type",
                  "application/javascript"
                ]
              ],
              "status": 200,
              "status_text": ""
            }
          },
          "base_uri": "https://localhost:8080/",
          "height": 74
        },
        "id": "D49Je9bHBuYk",
        "outputId": "8f2533eb-9388-4d80-ab72-263286f1515c"
      },
      "execution_count": null,
      "outputs": [
        {
          "output_type": "display_data",
          "data": {
            "text/html": [
              "\n",
              "     <input type=\"file\" id=\"files-512c5775-f4a6-4f2a-b5e7-890bff0a6b2a\" name=\"files[]\" multiple disabled\n",
              "        style=\"border:none\" />\n",
              "     <output id=\"result-512c5775-f4a6-4f2a-b5e7-890bff0a6b2a\">\n",
              "      Upload widget is only available when the cell has been executed in the\n",
              "      current browser session. Please rerun this cell to enable.\n",
              "      </output>\n",
              "      <script src=\"/nbextensions/google.colab/files.js\"></script> "
            ],
            "text/plain": [
              "<IPython.core.display.HTML object>"
            ]
          },
          "metadata": {}
        },
        {
          "output_type": "stream",
          "name": "stdout",
          "text": [
            "Saving suiciderates.csv to suiciderates.csv\n"
          ]
        }
      ]
    },
    {
      "cell_type": "code",
      "source": [
        "#Reading CSV File\n",
        "data=pd.read_csv(\"suiciderates.csv\")"
      ],
      "metadata": {
        "id": "9dSMJq9HjM5q"
      },
      "execution_count": null,
      "outputs": []
    },
    {
      "cell_type": "code",
      "source": [
        "data.shape"
      ],
      "metadata": {
        "colab": {
          "base_uri": "https://localhost:8080/"
        },
        "id": "6QMHg25VjU5h",
        "outputId": "a107be55-0705-48eb-e11f-0c76c701beab"
      },
      "execution_count": null,
      "outputs": [
        {
          "output_type": "execute_result",
          "data": {
            "text/plain": [
              "(27820, 11)"
            ]
          },
          "metadata": {},
          "execution_count": 5
        }
      ]
    },
    {
      "cell_type": "code",
      "source": [
        "data.head()"
      ],
      "metadata": {
        "colab": {
          "base_uri": "https://localhost:8080/",
          "height": 206
        },
        "id": "KHu-Te4qjW7R",
        "outputId": "a5f89b70-a8b6-4d43-8a5a-96df0a8a4877"
      },
      "execution_count": null,
      "outputs": [
        {
          "output_type": "execute_result",
          "data": {
            "text/html": [
              "<div>\n",
              "<style scoped>\n",
              "    .dataframe tbody tr th:only-of-type {\n",
              "        vertical-align: middle;\n",
              "    }\n",
              "\n",
              "    .dataframe tbody tr th {\n",
              "        vertical-align: top;\n",
              "    }\n",
              "\n",
              "    .dataframe thead th {\n",
              "        text-align: right;\n",
              "    }\n",
              "</style>\n",
              "<table border=\"1\" class=\"dataframe\">\n",
              "  <thead>\n",
              "    <tr style=\"text-align: right;\">\n",
              "      <th></th>\n",
              "      <th>country</th>\n",
              "      <th>year</th>\n",
              "      <th>sex</th>\n",
              "      <th>age</th>\n",
              "      <th>suicides_no</th>\n",
              "      <th>population</th>\n",
              "      <th>suicides/100k pop</th>\n",
              "      <th>HDI for year</th>\n",
              "      <th>gdp_for_year</th>\n",
              "      <th>gdp_per_capita</th>\n",
              "      <th>generation</th>\n",
              "    </tr>\n",
              "  </thead>\n",
              "  <tbody>\n",
              "    <tr>\n",
              "      <th>0</th>\n",
              "      <td>Albania</td>\n",
              "      <td>1987</td>\n",
              "      <td>male</td>\n",
              "      <td>15-24 years</td>\n",
              "      <td>21</td>\n",
              "      <td>312900</td>\n",
              "      <td>6.71</td>\n",
              "      <td>NaN</td>\n",
              "      <td>2156624900</td>\n",
              "      <td>796</td>\n",
              "      <td>Generation X</td>\n",
              "    </tr>\n",
              "    <tr>\n",
              "      <th>1</th>\n",
              "      <td>Albania</td>\n",
              "      <td>1987</td>\n",
              "      <td>male</td>\n",
              "      <td>35-54 years</td>\n",
              "      <td>16</td>\n",
              "      <td>308000</td>\n",
              "      <td>5.19</td>\n",
              "      <td>NaN</td>\n",
              "      <td>2156624900</td>\n",
              "      <td>796</td>\n",
              "      <td>Silent</td>\n",
              "    </tr>\n",
              "    <tr>\n",
              "      <th>2</th>\n",
              "      <td>Albania</td>\n",
              "      <td>1987</td>\n",
              "      <td>female</td>\n",
              "      <td>15-24 years</td>\n",
              "      <td>14</td>\n",
              "      <td>289700</td>\n",
              "      <td>4.83</td>\n",
              "      <td>NaN</td>\n",
              "      <td>2156624900</td>\n",
              "      <td>796</td>\n",
              "      <td>Generation X</td>\n",
              "    </tr>\n",
              "    <tr>\n",
              "      <th>3</th>\n",
              "      <td>Albania</td>\n",
              "      <td>1987</td>\n",
              "      <td>male</td>\n",
              "      <td>75+ years</td>\n",
              "      <td>1</td>\n",
              "      <td>21800</td>\n",
              "      <td>4.59</td>\n",
              "      <td>NaN</td>\n",
              "      <td>2156624900</td>\n",
              "      <td>796</td>\n",
              "      <td>G.I. Generation</td>\n",
              "    </tr>\n",
              "    <tr>\n",
              "      <th>4</th>\n",
              "      <td>Albania</td>\n",
              "      <td>1987</td>\n",
              "      <td>male</td>\n",
              "      <td>25-34 years</td>\n",
              "      <td>9</td>\n",
              "      <td>274300</td>\n",
              "      <td>3.28</td>\n",
              "      <td>NaN</td>\n",
              "      <td>2156624900</td>\n",
              "      <td>796</td>\n",
              "      <td>Boomers</td>\n",
              "    </tr>\n",
              "  </tbody>\n",
              "</table>\n",
              "</div>"
            ],
            "text/plain": [
              "   country  year     sex  ... gdp_for_year  gdp_per_capita       generation\n",
              "0  Albania  1987    male  ...   2156624900             796     Generation X\n",
              "1  Albania  1987    male  ...   2156624900             796           Silent\n",
              "2  Albania  1987  female  ...   2156624900             796     Generation X\n",
              "3  Albania  1987    male  ...   2156624900             796  G.I. Generation\n",
              "4  Albania  1987    male  ...   2156624900             796          Boomers\n",
              "\n",
              "[5 rows x 11 columns]"
            ]
          },
          "metadata": {},
          "execution_count": 6
        }
      ]
    },
    {
      "cell_type": "markdown",
      "source": [
        "Comaprison of the world wide number of male and female suicides "
      ],
      "metadata": {
        "id": "C3MjWhPamJd1"
      }
    },
    {
      "cell_type": "code",
      "source": [
        "male=data[data.sex=='male']\n",
        "female=data[data.sex=='female']\n",
        "sns.lineplot(x=male.year, y=male.suicides_no, ci=None)\n",
        "sns.lineplot(x=female.year, y=female.suicides_no, ci=None)\n",
        "plt.legend([\"male\", 'female'])\n",
        "plt.show()"
      ],
      "metadata": {
        "colab": {
          "base_uri": "https://localhost:8080/",
          "height": 279
        },
        "id": "LhKcUZp4jbmU",
        "outputId": "434d3e6e-6f14-47c1-bd90-5c811098ba2c"
      },
      "execution_count": null,
      "outputs": [
        {
          "output_type": "display_data",
          "data": {
            "image/png": "[encoded data removed]",
            "text/plain": [
              "<Figure size 432x288 with 1 Axes>"
            ]
          },
          "metadata": {
            "needs_background": "light"
          }
        }
      ]
    },
    {
      "cell_type": "markdown",
      "source": [
        "Analyse the trend for specific Generations over years"
      ],
      "metadata": {
        "id": "GQmtXLuuCTd0"
      }
    },
    {
      "cell_type": "code",
      "source": [
        "group_wise=data.groupby(['year','generation'], as_index = False).sum()"
      ],
      "metadata": {
        "id": "fiqR8I1JmfqZ"
      },
      "execution_count": null,
      "outputs": []
    },
    {
      "cell_type": "code",
      "source": [
        "group_wise.head(20)"
      ],
      "metadata": {
        "colab": {
          "base_uri": "https://localhost:8080/",
          "height": 676
        },
        "id": "Gls9E8YgvUZp",
        "outputId": "a703a972-f907-48d8-863d-b7c5e6491659"
      },
      "execution_count": null,
      "outputs": [
        {
          "output_type": "execute_result",
          "data": {
            "text/html": [
              "<div>\n",
              "<style scoped>\n",
              "    .dataframe tbody tr th:only-of-type {\n",
              "        vertical-align: middle;\n",
              "    }\n",
              "\n",
              "    .dataframe tbody tr th {\n",
              "        vertical-align: top;\n",
              "    }\n",
              "\n",
              "    .dataframe thead th {\n",
              "        text-align: right;\n",
              "    }\n",
              "</style>\n",
              "<table border=\"1\" class=\"dataframe\">\n",
              "  <thead>\n",
              "    <tr style=\"text-align: right;\">\n",
              "      <th></th>\n",
              "      <th>year</th>\n",
              "      <th>generation</th>\n",
              "      <th>suicides_no</th>\n",
              "      <th>population</th>\n",
              "      <th>suicides/100k pop</th>\n",
              "      <th>HDI for year</th>\n",
              "      <th>gdp_for_year</th>\n",
              "      <th>gdp_per_capita</th>\n",
              "    </tr>\n",
              "  </thead>\n",
              "  <tbody>\n",
              "    <tr>\n",
              "      <th>0</th>\n",
              "      <td>1985</td>\n",
              "      <td>Boomers</td>\n",
              "      <td>20771</td>\n",
              "      <td>173536624</td>\n",
              "      <td>960.84</td>\n",
              "      <td>51.738</td>\n",
              "      <td>18494125705750</td>\n",
              "      <td>584758</td>\n",
              "    </tr>\n",
              "    <tr>\n",
              "      <th>1</th>\n",
              "      <td>1985</td>\n",
              "      <td>G.I. Generation</td>\n",
              "      <td>40690</td>\n",
              "      <td>192849873</td>\n",
              "      <td>3799.55</td>\n",
              "      <td>103.476</td>\n",
              "      <td>36988251411500</td>\n",
              "      <td>1169516</td>\n",
              "    </tr>\n",
              "    <tr>\n",
              "      <th>2</th>\n",
              "      <td>1985</td>\n",
              "      <td>Generation X</td>\n",
              "      <td>18854</td>\n",
              "      <td>396166961</td>\n",
              "      <td>860.81</td>\n",
              "      <td>103.476</td>\n",
              "      <td>36988251411500</td>\n",
              "      <td>1169516</td>\n",
              "    </tr>\n",
              "    <tr>\n",
              "      <th>3</th>\n",
              "      <td>1985</td>\n",
              "      <td>Silent</td>\n",
              "      <td>35748</td>\n",
              "      <td>246046628</td>\n",
              "      <td>1190.69</td>\n",
              "      <td>51.738</td>\n",
              "      <td>18494125705750</td>\n",
              "      <td>584758</td>\n",
              "    </tr>\n",
              "    <tr>\n",
              "      <th>4</th>\n",
              "      <td>1986</td>\n",
              "      <td>Boomers</td>\n",
              "      <td>21685</td>\n",
              "      <td>176214788</td>\n",
              "      <td>1017.01</td>\n",
              "      <td>0.000</td>\n",
              "      <td>22101605330478</td>\n",
              "      <td>684106</td>\n",
              "    </tr>\n",
              "    <tr>\n",
              "      <th>5</th>\n",
              "      <td>1986</td>\n",
              "      <td>G.I. Generation</td>\n",
              "      <td>42420</td>\n",
              "      <td>198039458</td>\n",
              "      <td>3617.01</td>\n",
              "      <td>0.000</td>\n",
              "      <td>44203210660956</td>\n",
              "      <td>1368212</td>\n",
              "    </tr>\n",
              "    <tr>\n",
              "      <th>6</th>\n",
              "      <td>1986</td>\n",
              "      <td>Generation X</td>\n",
              "      <td>19007</td>\n",
              "      <td>402054011</td>\n",
              "      <td>823.06</td>\n",
              "      <td>0.000</td>\n",
              "      <td>44203210660956</td>\n",
              "      <td>1368212</td>\n",
              "    </tr>\n",
              "    <tr>\n",
              "      <th>7</th>\n",
              "      <td>1986</td>\n",
              "      <td>Silent</td>\n",
              "      <td>37558</td>\n",
              "      <td>253601356</td>\n",
              "      <td>1122.76</td>\n",
              "      <td>0.000</td>\n",
              "      <td>22101605330478</td>\n",
              "      <td>684106</td>\n",
              "    </tr>\n",
              "    <tr>\n",
              "      <th>8</th>\n",
              "      <td>1987</td>\n",
              "      <td>Boomers</td>\n",
              "      <td>22309</td>\n",
              "      <td>188988532</td>\n",
              "      <td>1183.72</td>\n",
              "      <td>0.000</td>\n",
              "      <td>25961647045700</td>\n",
              "      <td>940960</td>\n",
              "    </tr>\n",
              "    <tr>\n",
              "      <th>9</th>\n",
              "      <td>1987</td>\n",
              "      <td>G.I. Generation</td>\n",
              "      <td>46517</td>\n",
              "      <td>215665860</td>\n",
              "      <td>4163.25</td>\n",
              "      <td>0.000</td>\n",
              "      <td>51923294091400</td>\n",
              "      <td>1881920</td>\n",
              "    </tr>\n",
              "    <tr>\n",
              "      <th>10</th>\n",
              "      <td>1987</td>\n",
              "      <td>Generation X</td>\n",
              "      <td>17367</td>\n",
              "      <td>416902084</td>\n",
              "      <td>861.05</td>\n",
              "      <td>0.000</td>\n",
              "      <td>51923294091400</td>\n",
              "      <td>1881920</td>\n",
              "    </tr>\n",
              "    <tr>\n",
              "      <th>11</th>\n",
              "      <td>1987</td>\n",
              "      <td>Silent</td>\n",
              "      <td>40649</td>\n",
              "      <td>273473250</td>\n",
              "      <td>1337.43</td>\n",
              "      <td>0.000</td>\n",
              "      <td>25961647045700</td>\n",
              "      <td>940960</td>\n",
              "    </tr>\n",
              "    <tr>\n",
              "      <th>12</th>\n",
              "      <td>1988</td>\n",
              "      <td>Boomers</td>\n",
              "      <td>21332</td>\n",
              "      <td>181934957</td>\n",
              "      <td>1216.19</td>\n",
              "      <td>0.000</td>\n",
              "      <td>29259615200746</td>\n",
              "      <td>978418</td>\n",
              "    </tr>\n",
              "    <tr>\n",
              "      <th>13</th>\n",
              "      <td>1988</td>\n",
              "      <td>G.I. Generation</td>\n",
              "      <td>44750</td>\n",
              "      <td>213523245</td>\n",
              "      <td>4061.31</td>\n",
              "      <td>0.000</td>\n",
              "      <td>58519230401492</td>\n",
              "      <td>1956836</td>\n",
              "    </tr>\n",
              "    <tr>\n",
              "      <th>14</th>\n",
              "      <td>1988</td>\n",
              "      <td>Generation X</td>\n",
              "      <td>16174</td>\n",
              "      <td>391372083</td>\n",
              "      <td>904.38</td>\n",
              "      <td>0.000</td>\n",
              "      <td>58519230401492</td>\n",
              "      <td>1956836</td>\n",
              "    </tr>\n",
              "    <tr>\n",
              "      <th>15</th>\n",
              "      <td>1988</td>\n",
              "      <td>Silent</td>\n",
              "      <td>38770</td>\n",
              "      <td>267264139</td>\n",
              "      <td>1291.25</td>\n",
              "      <td>0.000</td>\n",
              "      <td>29259615200746</td>\n",
              "      <td>978418</td>\n",
              "    </tr>\n",
              "    <tr>\n",
              "      <th>16</th>\n",
              "      <td>1989</td>\n",
              "      <td>Boomers</td>\n",
              "      <td>29427</td>\n",
              "      <td>213566446</td>\n",
              "      <td>1266.53</td>\n",
              "      <td>0.000</td>\n",
              "      <td>31936376941196</td>\n",
              "      <td>1011404</td>\n",
              "    </tr>\n",
              "    <tr>\n",
              "      <th>17</th>\n",
              "      <td>1989</td>\n",
              "      <td>G.I. Generation</td>\n",
              "      <td>57490</td>\n",
              "      <td>253055377</td>\n",
              "      <td>4346.97</td>\n",
              "      <td>0.000</td>\n",
              "      <td>63872753882392</td>\n",
              "      <td>2022808</td>\n",
              "    </tr>\n",
              "    <tr>\n",
              "      <th>18</th>\n",
              "      <td>1989</td>\n",
              "      <td>Generation X</td>\n",
              "      <td>19786</td>\n",
              "      <td>442264948</td>\n",
              "      <td>1010.25</td>\n",
              "      <td>0.000</td>\n",
              "      <td>63872753882392</td>\n",
              "      <td>2022808</td>\n",
              "    </tr>\n",
              "    <tr>\n",
              "      <th>19</th>\n",
              "      <td>1989</td>\n",
              "      <td>Silent</td>\n",
              "      <td>53541</td>\n",
              "      <td>316627576</td>\n",
              "      <td>1412.79</td>\n",
              "      <td>0.000</td>\n",
              "      <td>31936376941196</td>\n",
              "      <td>1011404</td>\n",
              "    </tr>\n",
              "  </tbody>\n",
              "</table>\n",
              "</div>"
            ],
            "text/plain": [
              "    year       generation  ...    gdp_for_year  gdp_per_capita\n",
              "0   1985          Boomers  ...  18494125705750          584758\n",
              "1   1985  G.I. Generation  ...  36988251411500         1169516\n",
              "2   1985     Generation X  ...  36988251411500         1169516\n",
              "3   1985           Silent  ...  18494125705750          584758\n",
              "4   1986          Boomers  ...  22101605330478          684106\n",
              "5   1986  G.I. Generation  ...  44203210660956         1368212\n",
              "6   1986     Generation X  ...  44203210660956         1368212\n",
              "7   1986           Silent  ...  22101605330478          684106\n",
              "8   1987          Boomers  ...  25961647045700          940960\n",
              "9   1987  G.I. Generation  ...  51923294091400         1881920\n",
              "10  1987     Generation X  ...  51923294091400         1881920\n",
              "11  1987           Silent  ...  25961647045700          940960\n",
              "12  1988          Boomers  ...  29259615200746          978418\n",
              "13  1988  G.I. Generation  ...  58519230401492         1956836\n",
              "14  1988     Generation X  ...  58519230401492         1956836\n",
              "15  1988           Silent  ...  29259615200746          978418\n",
              "16  1989          Boomers  ...  31936376941196         1011404\n",
              "17  1989  G.I. Generation  ...  63872753882392         2022808\n",
              "18  1989     Generation X  ...  63872753882392         2022808\n",
              "19  1989           Silent  ...  31936376941196         1011404\n",
              "\n",
              "[20 rows x 8 columns]"
            ]
          },
          "metadata": {},
          "execution_count": 90
        }
      ]
    },
    {
      "cell_type": "code",
      "source": [
        "group_wise[group_wise['generation']=='Generation Z']"
      ],
      "metadata": {
        "colab": {
          "base_uri": "https://localhost:8080/",
          "height": 332
        },
        "id": "zqQ_xYDUmr8Q",
        "outputId": "5b5964c0-bccc-4c54-de0d-750efc6390b1"
      },
      "execution_count": null,
      "outputs": [
        {
          "output_type": "execute_result",
          "data": {
            "text/html": [
              "<div>\n",
              "<style scoped>\n",
              "    .dataframe tbody tr th:only-of-type {\n",
              "        vertical-align: middle;\n",
              "    }\n",
              "\n",
              "    .dataframe tbody tr th {\n",
              "        vertical-align: top;\n",
              "    }\n",
              "\n",
              "    .dataframe thead th {\n",
              "        text-align: right;\n",
              "    }\n",
              "</style>\n",
              "<table border=\"1\" class=\"dataframe\">\n",
              "  <thead>\n",
              "    <tr style=\"text-align: right;\">\n",
              "      <th></th>\n",
              "      <th>year</th>\n",
              "      <th>generation</th>\n",
              "      <th>suicides_no</th>\n",
              "      <th>population</th>\n",
              "      <th>suicides/100k pop</th>\n",
              "      <th>HDI for year</th>\n",
              "      <th>gdp_for_year</th>\n",
              "      <th>gdp_per_capita</th>\n",
              "    </tr>\n",
              "  </thead>\n",
              "  <tbody>\n",
              "    <tr>\n",
              "      <th>100</th>\n",
              "      <td>2007</td>\n",
              "      <td>Generation Z</td>\n",
              "      <td>1671</td>\n",
              "      <td>281095405</td>\n",
              "      <td>111.15</td>\n",
              "      <td>0.000</td>\n",
              "      <td>96084942646126</td>\n",
              "      <td>4118270</td>\n",
              "    </tr>\n",
              "    <tr>\n",
              "      <th>105</th>\n",
              "      <td>2008</td>\n",
              "      <td>Generation Z</td>\n",
              "      <td>1640</td>\n",
              "      <td>278903896</td>\n",
              "      <td>105.20</td>\n",
              "      <td>0.000</td>\n",
              "      <td>103220400640460</td>\n",
              "      <td>4489368</td>\n",
              "    </tr>\n",
              "    <tr>\n",
              "      <th>110</th>\n",
              "      <td>2009</td>\n",
              "      <td>Generation Z</td>\n",
              "      <td>1835</td>\n",
              "      <td>297254525</td>\n",
              "      <td>106.44</td>\n",
              "      <td>0.000</td>\n",
              "      <td>97472211599460</td>\n",
              "      <td>4024208</td>\n",
              "    </tr>\n",
              "    <tr>\n",
              "      <th>114</th>\n",
              "      <td>2010</td>\n",
              "      <td>Generation Z</td>\n",
              "      <td>1760</td>\n",
              "      <td>297317505</td>\n",
              "      <td>114.20</td>\n",
              "      <td>133.370</td>\n",
              "      <td>104310400914382</td>\n",
              "      <td>4198866</td>\n",
              "    </tr>\n",
              "    <tr>\n",
              "      <th>119</th>\n",
              "      <td>2011</td>\n",
              "      <td>Generation Z</td>\n",
              "      <td>1879</td>\n",
              "      <td>294238144</td>\n",
              "      <td>109.68</td>\n",
              "      <td>128.916</td>\n",
              "      <td>113000007888352</td>\n",
              "      <td>4489358</td>\n",
              "    </tr>\n",
              "    <tr>\n",
              "      <th>124</th>\n",
              "      <td>2012</td>\n",
              "      <td>Generation Z</td>\n",
              "      <td>1752</td>\n",
              "      <td>271680873</td>\n",
              "      <td>104.12</td>\n",
              "      <td>125.506</td>\n",
              "      <td>112750430030080</td>\n",
              "      <td>4343050</td>\n",
              "    </tr>\n",
              "    <tr>\n",
              "      <th>129</th>\n",
              "      <td>2013</td>\n",
              "      <td>Generation Z</td>\n",
              "      <td>1806</td>\n",
              "      <td>268175176</td>\n",
              "      <td>105.57</td>\n",
              "      <td>124.480</td>\n",
              "      <td>114175035302150</td>\n",
              "      <td>4485228</td>\n",
              "    </tr>\n",
              "    <tr>\n",
              "      <th>134</th>\n",
              "      <td>2014</td>\n",
              "      <td>Generation Z</td>\n",
              "      <td>1882</td>\n",
              "      <td>268239985</td>\n",
              "      <td>100.44</td>\n",
              "      <td>121.278</td>\n",
              "      <td>112082787569562</td>\n",
              "      <td>4277542</td>\n",
              "    </tr>\n",
              "    <tr>\n",
              "      <th>139</th>\n",
              "      <td>2015</td>\n",
              "      <td>Generation Z</td>\n",
              "      <td>1681</td>\n",
              "      <td>246636333</td>\n",
              "      <td>87.38</td>\n",
              "      <td>0.000</td>\n",
              "      <td>96738980716766</td>\n",
              "      <td>3252668</td>\n",
              "    </tr>\n",
              "  </tbody>\n",
              "</table>\n",
              "</div>"
            ],
            "text/plain": [
              "     year    generation  ...     gdp_for_year  gdp_per_capita\n",
              "100  2007  Generation Z  ...   96084942646126         4118270\n",
              "105  2008  Generation Z  ...  103220400640460         4489368\n",
              "110  2009  Generation Z  ...   97472211599460         4024208\n",
              "114  2010  Generation Z  ...  104310400914382         4198866\n",
              "119  2011  Generation Z  ...  113000007888352         4489358\n",
              "124  2012  Generation Z  ...  112750430030080         4343050\n",
              "129  2013  Generation Z  ...  114175035302150         4485228\n",
              "134  2014  Generation Z  ...  112082787569562         4277542\n",
              "139  2015  Generation Z  ...   96738980716766         3252668\n",
              "\n",
              "[9 rows x 8 columns]"
            ]
          },
          "metadata": {},
          "execution_count": 89
        }
      ]
    },
    {
      "cell_type": "code",
      "source": [
        "plt.figure(figsize=(9,6))\n",
        "sns.lineplot(x = group_wise.year, y = group_wise.suicides_no*100/group_wise.population, hue=group_wise.generation, style=group_wise.generation, markers=True, dashes=False, linewidth=2.5)\n",
        "plt.show()"
      ],
      "metadata": {
        "colab": {
          "base_uri": "https://localhost:8080/",
          "height": 388
        },
        "id": "s7YeNg93pR1n",
        "outputId": "e2add304-9404-48bc-90bc-75b25518b838"
      },
      "execution_count": null,
      "outputs": [
        {
          "output_type": "display_data",
          "data": {
            "image/png": "[encoded data removed]",
            "text/plain": [
              "<Figure size 648x432 with 1 Axes>"
            ]
          },
          "metadata": {
            "needs_background": "light"
          }
        }
      ]
    },
    {
      "cell_type": "markdown",
      "source": [
        "Analyse country wise Suicide rate"
      ],
      "metadata": {
        "id": "MlxQB82TCjBe"
      }
    },
    {
      "cell_type": "code",
      "source": [
        "country_wise=data.groupby(['country'], as_index = False)[\"suicides_no\",\"population\"].sum()\n",
        "country_wise"
      ],
      "metadata": {
        "colab": {
          "base_uri": "https://localhost:8080/",
          "height": 460
        },
        "id": "rgOhHITcw6la",
        "outputId": "41deea91-77e4-421d-aaf1-0b86da8fb686"
      },
      "execution_count": null,
      "outputs": [
        {
          "output_type": "stream",
          "name": "stderr",
          "text": [
            "/usr/local/lib/python3.7/dist-packages/ipykernel_launcher.py:1: FutureWarning: Indexing with multiple keys (implicitly converted to a tuple of keys) will be deprecated, use a list instead.\n",
            "  \"\"\"Entry point for launching an IPython kernel.\n"
          ]
        },
        {
          "output_type": "execute_result",
          "data": {
            "text/html": [
              "<div>\n",
              "<style scoped>\n",
              "    .dataframe tbody tr th:only-of-type {\n",
              "        vertical-align: middle;\n",
              "    }\n",
              "\n",
              "    .dataframe tbody tr th {\n",
              "        vertical-align: top;\n",
              "    }\n",
              "\n",
              "    .dataframe thead th {\n",
              "        text-align: right;\n",
              "    }\n",
              "</style>\n",
              "<table border=\"1\" class=\"dataframe\">\n",
              "  <thead>\n",
              "    <tr style=\"text-align: right;\">\n",
              "      <th></th>\n",
              "      <th>country</th>\n",
              "      <th>suicides_no</th>\n",
              "      <th>population</th>\n",
              "    </tr>\n",
              "  </thead>\n",
              "  <tbody>\n",
              "    <tr>\n",
              "      <th>0</th>\n",
              "      <td>Albania</td>\n",
              "      <td>1970</td>\n",
              "      <td>62325467</td>\n",
              "    </tr>\n",
              "    <tr>\n",
              "      <th>1</th>\n",
              "      <td>Antigua and Barbuda</td>\n",
              "      <td>11</td>\n",
              "      <td>1990228</td>\n",
              "    </tr>\n",
              "    <tr>\n",
              "      <th>2</th>\n",
              "      <td>Argentina</td>\n",
              "      <td>82219</td>\n",
              "      <td>1035985431</td>\n",
              "    </tr>\n",
              "    <tr>\n",
              "      <th>3</th>\n",
              "      <td>Armenia</td>\n",
              "      <td>1905</td>\n",
              "      <td>77348173</td>\n",
              "    </tr>\n",
              "    <tr>\n",
              "      <th>4</th>\n",
              "      <td>Aruba</td>\n",
              "      <td>101</td>\n",
              "      <td>1259677</td>\n",
              "    </tr>\n",
              "    <tr>\n",
              "      <th>...</th>\n",
              "      <td>...</td>\n",
              "      <td>...</td>\n",
              "      <td>...</td>\n",
              "    </tr>\n",
              "    <tr>\n",
              "      <th>96</th>\n",
              "      <td>United Arab Emirates</td>\n",
              "      <td>622</td>\n",
              "      <td>36502275</td>\n",
              "    </tr>\n",
              "    <tr>\n",
              "      <th>97</th>\n",
              "      <td>United Kingdom</td>\n",
              "      <td>136805</td>\n",
              "      <td>1738767780</td>\n",
              "    </tr>\n",
              "    <tr>\n",
              "      <th>98</th>\n",
              "      <td>United States</td>\n",
              "      <td>1034013</td>\n",
              "      <td>8054027201</td>\n",
              "    </tr>\n",
              "    <tr>\n",
              "      <th>99</th>\n",
              "      <td>Uruguay</td>\n",
              "      <td>13138</td>\n",
              "      <td>84068943</td>\n",
              "    </tr>\n",
              "    <tr>\n",
              "      <th>100</th>\n",
              "      <td>Uzbekistan</td>\n",
              "      <td>34803</td>\n",
              "      <td>486422532</td>\n",
              "    </tr>\n",
              "  </tbody>\n",
              "</table>\n",
              "<p>101 rows × 3 columns</p>\n",
              "</div>"
            ],
            "text/plain": [
              "                  country  suicides_no  population\n",
              "0                 Albania         1970    62325467\n",
              "1     Antigua and Barbuda           11     1990228\n",
              "2               Argentina        82219  1035985431\n",
              "3                 Armenia         1905    77348173\n",
              "4                   Aruba          101     1259677\n",
              "..                    ...          ...         ...\n",
              "96   United Arab Emirates          622    36502275\n",
              "97         United Kingdom       136805  1738767780\n",
              "98          United States      1034013  8054027201\n",
              "99                Uruguay        13138    84068943\n",
              "100            Uzbekistan        34803   486422532\n",
              "\n",
              "[101 rows x 3 columns]"
            ]
          },
          "metadata": {},
          "execution_count": 109
        }
      ]
    },
    {
      "cell_type": "code",
      "source": [
        "suicide_rate=country_wise.suicides_no*100/country_wise.population\n",
        "country_wise['suicide_rate']=suicide_rate"
      ],
      "metadata": {
        "id": "GJJMR8yyyT1n"
      },
      "execution_count": null,
      "outputs": []
    },
    {
      "cell_type": "code",
      "source": [
        "country_wise=country_wise.sort_values(by='suicide_rate', ascending=False)\n",
        "country_wise"
      ],
      "metadata": {
        "colab": {
          "base_uri": "https://localhost:8080/",
          "height": 423
        },
        "id": "zz9YtYkWy2pn",
        "outputId": "bfea70ac-9fc0-4f2e-8908-81d7e8bfeb13"
      },
      "execution_count": null,
      "outputs": [
        {
          "output_type": "execute_result",
          "data": {
            "text/html": [
              "<div>\n",
              "<style scoped>\n",
              "    .dataframe tbody tr th:only-of-type {\n",
              "        vertical-align: middle;\n",
              "    }\n",
              "\n",
              "    .dataframe tbody tr th {\n",
              "        vertical-align: top;\n",
              "    }\n",
              "\n",
              "    .dataframe thead th {\n",
              "        text-align: right;\n",
              "    }\n",
              "</style>\n",
              "<table border=\"1\" class=\"dataframe\">\n",
              "  <thead>\n",
              "    <tr style=\"text-align: right;\">\n",
              "      <th></th>\n",
              "      <th>country</th>\n",
              "      <th>suicides_no</th>\n",
              "      <th>population</th>\n",
              "      <th>suicide_rate</th>\n",
              "    </tr>\n",
              "  </thead>\n",
              "  <tbody>\n",
              "    <tr>\n",
              "      <th>52</th>\n",
              "      <td>Lithuania</td>\n",
              "      <td>28039</td>\n",
              "      <td>68085210</td>\n",
              "      <td>0.041182</td>\n",
              "    </tr>\n",
              "    <tr>\n",
              "      <th>75</th>\n",
              "      <td>Russian Federation</td>\n",
              "      <td>1209742</td>\n",
              "      <td>3690802620</td>\n",
              "      <td>0.032777</td>\n",
              "    </tr>\n",
              "    <tr>\n",
              "      <th>87</th>\n",
              "      <td>Sri Lanka</td>\n",
              "      <td>55641</td>\n",
              "      <td>182525626</td>\n",
              "      <td>0.030484</td>\n",
              "    </tr>\n",
              "    <tr>\n",
              "      <th>11</th>\n",
              "      <td>Belarus</td>\n",
              "      <td>59892</td>\n",
              "      <td>197372292</td>\n",
              "      <td>0.030345</td>\n",
              "    </tr>\n",
              "    <tr>\n",
              "      <th>40</th>\n",
              "      <td>Hungary</td>\n",
              "      <td>73891</td>\n",
              "      <td>248644256</td>\n",
              "      <td>0.029718</td>\n",
              "    </tr>\n",
              "    <tr>\n",
              "      <th>...</th>\n",
              "      <td>...</td>\n",
              "      <td>...</td>\n",
              "      <td>...</td>\n",
              "      <td>...</td>\n",
              "    </tr>\n",
              "    <tr>\n",
              "      <th>1</th>\n",
              "      <td>Antigua and Barbuda</td>\n",
              "      <td>11</td>\n",
              "      <td>1990228</td>\n",
              "      <td>0.000553</td>\n",
              "    </tr>\n",
              "    <tr>\n",
              "      <th>45</th>\n",
              "      <td>Jamaica</td>\n",
              "      <td>184</td>\n",
              "      <td>39481817</td>\n",
              "      <td>0.000466</td>\n",
              "    </tr>\n",
              "    <tr>\n",
              "      <th>65</th>\n",
              "      <td>Oman</td>\n",
              "      <td>33</td>\n",
              "      <td>8987087</td>\n",
              "      <td>0.000367</td>\n",
              "    </tr>\n",
              "    <tr>\n",
              "      <th>27</th>\n",
              "      <td>Dominica</td>\n",
              "      <td>0</td>\n",
              "      <td>66400</td>\n",
              "      <td>0.000000</td>\n",
              "    </tr>\n",
              "    <tr>\n",
              "      <th>76</th>\n",
              "      <td>Saint Kitts and Nevis</td>\n",
              "      <td>0</td>\n",
              "      <td>117300</td>\n",
              "      <td>0.000000</td>\n",
              "    </tr>\n",
              "  </tbody>\n",
              "</table>\n",
              "<p>101 rows × 4 columns</p>\n",
              "</div>"
            ],
            "text/plain": [
              "                  country  suicides_no  population  suicide_rate\n",
              "52              Lithuania        28039    68085210      0.041182\n",
              "75     Russian Federation      1209742  3690802620      0.032777\n",
              "87              Sri Lanka        55641   182525626      0.030484\n",
              "11                Belarus        59892   197372292      0.030345\n",
              "40                Hungary        73891   248644256      0.029718\n",
              "..                    ...          ...         ...           ...\n",
              "1     Antigua and Barbuda           11     1990228      0.000553\n",
              "45                Jamaica          184    39481817      0.000466\n",
              "65                   Oman           33     8987087      0.000367\n",
              "27               Dominica            0       66400      0.000000\n",
              "76  Saint Kitts and Nevis            0      117300      0.000000\n",
              "\n",
              "[101 rows x 4 columns]"
            ]
          },
          "metadata": {},
          "execution_count": 111
        }
      ]
    },
    {
      "cell_type": "code",
      "source": [
        "plt.figure(figsize=(8,40))\n",
        "sns.barplot(x=country_wise.suicide_rate,y=country_wise.country, palette=\"RdYlGn\")\n",
        "plt.xlabel(\"ratio of suicide\")\n",
        "plt.ylabel(\"country\")\n",
        "plt.title(\"suicide rate vs country\")\n",
        "plt.show()"
      ],
      "metadata": {
        "colab": {
          "base_uri": "https://localhost:8080/",
          "height": 1000
        },
        "id": "3dSRyYNXzxhS",
        "outputId": "dea4a9d3-ddaa-4acc-cded-303f22e3a59c"
      },
      "execution_count": null,
      "outputs": [
        {
          "output_type": "display_data",
          "data": {
            "image/png": "[encoded data removed]",
            "text/plain": [
              "<Figure size 576x2880 with 1 Axes>"
            ]
          },
          "metadata": {
            "needs_background": "light"
          }
        }
      ]
    },
    {
      "cell_type": "markdown",
      "source": [
        "Analysing generation wise Suicide rate"
      ],
      "metadata": {
        "id": "JVBmu6IwCsYI"
      }
    },
    {
      "cell_type": "code",
      "source": [
        "generation_wise=data.groupby(['generation'], as_index = False)[\"suicides_no\",\"population\"].sum()\n",
        "suicide_rate=generation_wise.suicides_no*100/generation_wise.population\n",
        "generation_wise['suicide_rate']=suicide_rate\n",
        "generation_wise"
      ],
      "metadata": {
        "colab": {
          "base_uri": "https://localhost:8080/",
          "height": 274
        },
        "id": "4MN-iN1b_nWC",
        "outputId": "8a149b97-9e25-439f-9cf1-eb4a7899adc8"
      },
      "execution_count": null,
      "outputs": [
        {
          "output_type": "stream",
          "name": "stderr",
          "text": [
            "/usr/local/lib/python3.7/dist-packages/ipykernel_launcher.py:1: FutureWarning: Indexing with multiple keys (implicitly converted to a tuple of keys) will be deprecated, use a list instead.\n",
            "  \"\"\"Entry point for launching an IPython kernel.\n"
          ]
        },
        {
          "output_type": "execute_result",
          "data": {
            "text/html": [
              "<div>\n",
              "<style scoped>\n",
              "    .dataframe tbody tr th:only-of-type {\n",
              "        vertical-align: middle;\n",
              "    }\n",
              "\n",
              "    .dataframe tbody tr th {\n",
              "        vertical-align: top;\n",
              "    }\n",
              "\n",
              "    .dataframe thead th {\n",
              "        text-align: right;\n",
              "    }\n",
              "</style>\n",
              "<table border=\"1\" class=\"dataframe\">\n",
              "  <thead>\n",
              "    <tr style=\"text-align: right;\">\n",
              "      <th></th>\n",
              "      <th>generation</th>\n",
              "      <th>suicides_no</th>\n",
              "      <th>population</th>\n",
              "      <th>suicide_rate</th>\n",
              "    </tr>\n",
              "  </thead>\n",
              "  <tbody>\n",
              "    <tr>\n",
              "      <th>0</th>\n",
              "      <td>Boomers</td>\n",
              "      <td>2284498</td>\n",
              "      <td>13350511729</td>\n",
              "      <td>0.017112</td>\n",
              "    </tr>\n",
              "    <tr>\n",
              "      <th>1</th>\n",
              "      <td>G.I. Generation</td>\n",
              "      <td>510009</td>\n",
              "      <td>2126202724</td>\n",
              "      <td>0.023987</td>\n",
              "    </tr>\n",
              "    <tr>\n",
              "      <th>2</th>\n",
              "      <td>Generation X</td>\n",
              "      <td>1532804</td>\n",
              "      <td>13472109292</td>\n",
              "      <td>0.011378</td>\n",
              "    </tr>\n",
              "    <tr>\n",
              "      <th>3</th>\n",
              "      <td>Generation Z</td>\n",
              "      <td>15906</td>\n",
              "      <td>2503541842</td>\n",
              "      <td>0.000635</td>\n",
              "    </tr>\n",
              "    <tr>\n",
              "      <th>4</th>\n",
              "      <td>Millenials</td>\n",
              "      <td>623459</td>\n",
              "      <td>10649461202</td>\n",
              "      <td>0.005854</td>\n",
              "    </tr>\n",
              "    <tr>\n",
              "      <th>5</th>\n",
              "      <td>Silent</td>\n",
              "      <td>1781744</td>\n",
              "      <td>9220331647</td>\n",
              "      <td>0.019324</td>\n",
              "    </tr>\n",
              "  </tbody>\n",
              "</table>\n",
              "</div>"
            ],
            "text/plain": [
              "        generation  suicides_no   population  suicide_rate\n",
              "0          Boomers      2284498  13350511729      0.017112\n",
              "1  G.I. Generation       510009   2126202724      0.023987\n",
              "2     Generation X      1532804  13472109292      0.011378\n",
              "3     Generation Z        15906   2503541842      0.000635\n",
              "4       Millenials       623459  10649461202      0.005854\n",
              "5           Silent      1781744   9220331647      0.019324"
            ]
          },
          "metadata": {},
          "execution_count": 150
        }
      ]
    },
    {
      "cell_type": "code",
      "source": [
        "plt.figure(figsize=(15,10))\n",
        "plt.pie(generation_wise.suicides_no, labels=generation_wise.generation)\n",
        "plt.show()"
      ],
      "metadata": {
        "colab": {
          "base_uri": "https://localhost:8080/",
          "height": 575
        },
        "id": "U0aIYlTb9YMN",
        "outputId": "cc7bcbae-2358-4c22-eef2-32804289cbf3"
      },
      "execution_count": null,
      "outputs": [
        {
          "output_type": "display_data",
          "data": {
            "image/png": "[encoded data removed]",
            "text/plain": [
              "<Figure size 1080x720 with 1 Axes>"
            ]
          },
          "metadata": {}
        }
      ]
    },
    {
      "cell_type": "markdown",
      "source": [
        "Analysing Generation-wise suicide rate for each sex"
      ],
      "metadata": {
        "id": "OHiPSDpoCzAC"
      }
    },
    {
      "cell_type": "code",
      "source": [
        "generation_sex_wise=data.groupby(['generation','sex'], as_index = False)[\"suicides_no\",\"population\"].sum()\n",
        "suicide_rate=generation_sex_wise.suicides_no*100/generation_sex_wise.population\n",
        "generation_sex_wise['suicide_rate']=suicide_rate\n",
        "generation_sex_wise"
      ],
      "metadata": {
        "colab": {
          "base_uri": "https://localhost:8080/",
          "height": 426
        },
        "id": "6-q2_V2t5_jd",
        "outputId": "88259b59-82f8-4066-e0f7-81ccff798296"
      },
      "execution_count": null,
      "outputs": [
        {
          "output_type": "execute_result",
          "data": {
            "text/html": [
              "<div>\n",
              "<style scoped>\n",
              "    .dataframe tbody tr th:only-of-type {\n",
              "        vertical-align: middle;\n",
              "    }\n",
              "\n",
              "    .dataframe tbody tr th {\n",
              "        vertical-align: top;\n",
              "    }\n",
              "\n",
              "    .dataframe thead th {\n",
              "        text-align: right;\n",
              "    }\n",
              "</style>\n",
              "<table border=\"1\" class=\"dataframe\">\n",
              "  <thead>\n",
              "    <tr style=\"text-align: right;\">\n",
              "      <th></th>\n",
              "      <th>generation</th>\n",
              "      <th>sex</th>\n",
              "      <th>suicides_no</th>\n",
              "      <th>population</th>\n",
              "      <th>suicide_rate</th>\n",
              "    </tr>\n",
              "  </thead>\n",
              "  <tbody>\n",
              "    <tr>\n",
              "      <th>0</th>\n",
              "      <td>Boomers</td>\n",
              "      <td>female</td>\n",
              "      <td>460968</td>\n",
              "      <td>6787470671</td>\n",
              "      <td>0.006791</td>\n",
              "    </tr>\n",
              "    <tr>\n",
              "      <th>1</th>\n",
              "      <td>Boomers</td>\n",
              "      <td>male</td>\n",
              "      <td>1823530</td>\n",
              "      <td>6563041058</td>\n",
              "      <td>0.027785</td>\n",
              "    </tr>\n",
              "    <tr>\n",
              "      <th>2</th>\n",
              "      <td>G.I. Generation</td>\n",
              "      <td>female</td>\n",
              "      <td>176653</td>\n",
              "      <td>1273832910</td>\n",
              "      <td>0.013868</td>\n",
              "    </tr>\n",
              "    <tr>\n",
              "      <th>3</th>\n",
              "      <td>G.I. Generation</td>\n",
              "      <td>male</td>\n",
              "      <td>333356</td>\n",
              "      <td>852369814</td>\n",
              "      <td>0.039109</td>\n",
              "    </tr>\n",
              "    <tr>\n",
              "      <th>4</th>\n",
              "      <td>Generation X</td>\n",
              "      <td>female</td>\n",
              "      <td>309839</td>\n",
              "      <td>6689631160</td>\n",
              "      <td>0.004632</td>\n",
              "    </tr>\n",
              "    <tr>\n",
              "      <th>5</th>\n",
              "      <td>Generation X</td>\n",
              "      <td>male</td>\n",
              "      <td>1222965</td>\n",
              "      <td>6782478132</td>\n",
              "      <td>0.018031</td>\n",
              "    </tr>\n",
              "    <tr>\n",
              "      <th>6</th>\n",
              "      <td>Generation Z</td>\n",
              "      <td>female</td>\n",
              "      <td>6141</td>\n",
              "      <td>1222728047</td>\n",
              "      <td>0.000502</td>\n",
              "    </tr>\n",
              "    <tr>\n",
              "      <th>7</th>\n",
              "      <td>Generation Z</td>\n",
              "      <td>male</td>\n",
              "      <td>9765</td>\n",
              "      <td>1280813795</td>\n",
              "      <td>0.000762</td>\n",
              "    </tr>\n",
              "    <tr>\n",
              "      <th>8</th>\n",
              "      <td>Millenials</td>\n",
              "      <td>female</td>\n",
              "      <td>133620</td>\n",
              "      <td>5222262689</td>\n",
              "      <td>0.002559</td>\n",
              "    </tr>\n",
              "    <tr>\n",
              "      <th>9</th>\n",
              "      <td>Millenials</td>\n",
              "      <td>male</td>\n",
              "      <td>489839</td>\n",
              "      <td>5427198513</td>\n",
              "      <td>0.009026</td>\n",
              "    </tr>\n",
              "    <tr>\n",
              "      <th>10</th>\n",
              "      <td>Silent</td>\n",
              "      <td>female</td>\n",
              "      <td>472289</td>\n",
              "      <td>5076856380</td>\n",
              "      <td>0.009303</td>\n",
              "    </tr>\n",
              "    <tr>\n",
              "      <th>11</th>\n",
              "      <td>Silent</td>\n",
              "      <td>male</td>\n",
              "      <td>1309455</td>\n",
              "      <td>4143475267</td>\n",
              "      <td>0.031603</td>\n",
              "    </tr>\n",
              "  </tbody>\n",
              "</table>\n",
              "</div>"
            ],
            "text/plain": [
              "         generation     sex  suicides_no  population  suicide_rate\n",
              "0           Boomers  female       460968  6787470671      0.006791\n",
              "1           Boomers    male      1823530  6563041058      0.027785\n",
              "2   G.I. Generation  female       176653  1273832910      0.013868\n",
              "3   G.I. Generation    male       333356   852369814      0.039109\n",
              "4      Generation X  female       309839  6689631160      0.004632\n",
              "5      Generation X    male      1222965  6782478132      0.018031\n",
              "6      Generation Z  female         6141  1222728047      0.000502\n",
              "7      Generation Z    male         9765  1280813795      0.000762\n",
              "8        Millenials  female       133620  5222262689      0.002559\n",
              "9        Millenials    male       489839  5427198513      0.009026\n",
              "10           Silent  female       472289  5076856380      0.009303\n",
              "11           Silent    male      1309455  4143475267      0.031603"
            ]
          },
          "metadata": {},
          "execution_count": 126
        }
      ]
    },
    {
      "cell_type": "code",
      "source": [
        "male=generation_sex_wise[generation_sex_wise['sex']=='male']\n",
        "female=generation_sex_wise[generation_sex_wise['sex']=='female']\n",
        "print(female)\n",
        "print(male)"
      ],
      "metadata": {
        "colab": {
          "base_uri": "https://localhost:8080/"
        },
        "id": "jzZKYmtJ3g2T",
        "outputId": "9d9ad501-b6a7-4525-d965-9e47f3db4a51"
      },
      "execution_count": null,
      "outputs": [
        {
          "output_type": "stream",
          "name": "stdout",
          "text": [
            "         generation     sex  suicides_no  population  suicide_rate\n",
            "0           Boomers  female       460968  6787470671      0.006791\n",
            "2   G.I. Generation  female       176653  1273832910      0.013868\n",
            "4      Generation X  female       309839  6689631160      0.004632\n",
            "6      Generation Z  female         6141  1222728047      0.000502\n",
            "8        Millenials  female       133620  5222262689      0.002559\n",
            "10           Silent  female       472289  5076856380      0.009303\n",
            "         generation   sex  suicides_no  population  suicide_rate\n",
            "1           Boomers  male      1823530  6563041058      0.027785\n",
            "3   G.I. Generation  male       333356   852369814      0.039109\n",
            "5      Generation X  male      1222965  6782478132      0.018031\n",
            "7      Generation Z  male         9765  1280813795      0.000762\n",
            "9        Millenials  male       489839  5427198513      0.009026\n",
            "11           Silent  male      1309455  4143475267      0.031603\n"
          ]
        }
      ]
    },
    {
      "cell_type": "code",
      "source": [
        "plt.figure(figsize=(9,5))\n",
        "plt.bar(x=male.generation, height=male.suicide_rate, color='r')\n",
        "plt.bar(x=female.generation, height=female.suicide_rate, bottom=male.suicide_rate, color='b')\n",
        "plt.xlabel(\"Generation\")\n",
        "plt.ylabel(\"Suicide Rate (%)\")\n",
        "plt.title(\"Gender's generation wise suicide rate\")\n",
        "plt.show()"
      ],
      "metadata": {
        "colab": {
          "base_uri": "https://localhost:8080/",
          "height": 350
        },
        "id": "HS8Po0Qf4bpO",
        "outputId": "b60af0ce-7a36-46cd-acde-4d6c854b8dbf"
      },
      "execution_count": null,
      "outputs": [
        {
          "output_type": "display_data",
          "data": {
            "image/png": "[encoded data removed]",
            "text/plain": [
              "<Figure size 648x360 with 1 Axes>"
            ]
          },
          "metadata": {
            "needs_background": "light"
          }
        }
      ]
    }
  ]
}